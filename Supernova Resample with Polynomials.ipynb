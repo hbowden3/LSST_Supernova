{
 "cells": [
  {
   "cell_type": "code",
   "execution_count": 1,
   "metadata": {
    "collapsed": true
   },
   "outputs": [],
   "source": [
    "# import our python modules\n",
    "import lsst.sims.maf.db as db\n",
    "import lsst.sims.maf.utils as utils\n",
    "import numpy as np\n",
    "import matplotlib.pyplot as plt\n",
    "get_ipython().magic('matplotlib inline')\n",
    "import lsst.sims.maf.slicers as slicers\n",
    "import lsst.sims.maf.metrics as metrics\n",
    "import lsst.sims.maf.metricBundles as metricBundles\n",
    "import lsst.sims.maf.plots as plots\n",
    "from astropy.table import Table, Column\n",
    "from scipy import optimize\n",
    "import json"
   ]
  },
  {
   "cell_type": "code",
   "execution_count": 2,
   "metadata": {
    "collapsed": true
   },
   "outputs": [],
   "source": [
    "# Set the database and query\n",
    "runName = 'minion_1016'\n",
    "opsdb = db.OpsimDatabase(runName + '_sqlite.db')\n",
    "\n",
    "# Set the output directory\n",
    "outDir = 'Observations Dictionary'\n",
    "resultsDb = db.ResultsDb(outDir)"
   ]
  },
  {
   "cell_type": "code",
   "execution_count": 90,
   "metadata": {
    "collapsed": true
   },
   "outputs": [],
   "source": [
    "# Set desired filters, range of location and mangitudes of peak, and sample light curve here\n",
    "filterNames = ['g', 'r', 'i', 'z']\n",
    "colors = {'u':'cyan','g':'g','r':'blue','i':'r','z':'m', 'y':'k'}\n",
    "#Consider red filter for the two below\n",
    "#location_of_peak = np.arange(0,50, 10)\n",
    "#height_of_peak = np.arange(16, 18, 0.5)\n",
    "location_of_peak = [10]\n",
    "height_of_peak = [17]\n",
    "jsonLC = 'iPTF13bvn.json'"
   ]
  },
  {
   "cell_type": "code",
   "execution_count": 112,
   "metadata": {},
   "outputs": [
    {
     "name": "stdout",
     "output_type": "stream",
     "text": [
      "Querying database with no constraint.\n",
      "Found 2447931 visits\n",
      "Running:  [0]\n",
      "Completed metric generation.\n",
      "Running reduce methods.\n",
      "Running summary statistics.\n",
      "Completed.\n"
     ]
    }
   ],
   "source": [
    "# The pass metric just passes data straight through.\n",
    "#choose database and restrictions (such as list of ra and dec)\n",
    "metric = metrics.PassMetric(cols=['expMJD','filter','fiveSigmaDepth'])\n",
    "slicer = slicers.UserPointsSlicer(np.random.uniform(0,360,200), np.random.uniform(-60,-30,200))\n",
    "#no restrictions currently\n",
    "sql = ''\n",
    "bundle = metricBundles.MetricBundle(metric,slicer,sql)\n",
    "bg =  metricBundles.MetricBundleGroup({0:bundle}, opsdb,\n",
    "                                        outDir=outDir, resultsDb=resultsDb)\n",
    "bg.runAll()"
   ]
  },
  {
   "cell_type": "code",
   "execution_count": 5,
   "metadata": {
    "collapsed": true
   },
   "outputs": [],
   "source": [
    "def createdict_for_mjd_filter_depth(bundle):\n",
    "    \n",
    "    \"\"\"This function returns a list of tables of exposure day, filter, \n",
    "    and five sigma depth for each ra and dec chosen\"\"\"\n",
    "    \n",
    "    listofDict = []\n",
    "    for coord in range(len(bundle.metricValues)):\n",
    "        bdict = {key: bundle.metricValues[coord][key] for \n",
    "                 key in ['fieldRA', 'fieldDec', 'expMJD', 'filter', 'fiveSigmaDepth']}\n",
    "        t = Table(bdict)\n",
    "        t.rename_column('expMJD', 'day')\n",
    "        listofDict.append(t)\n",
    "    return listofDict"
   ]
  },
  {
   "cell_type": "code",
   "execution_count": 88,
   "metadata": {
    "collapsed": true
   },
   "outputs": [],
   "source": [
    "class ReadCurve():\n",
    "    #Read in asciifile and interpolate data for each filter\n",
    "    \n",
    "    def __init__(self, jsonfile):\n",
    "        self.read_lightcurve(jsonfile)\n",
    "\n",
    "    def read_lightcurve(self, jsonfile):\n",
    "        # Open and load json file with sne values\n",
    "        sne_data = open(jsonfile)\n",
    "        sne = json.load(sne_data)\n",
    "        # Set up dictionary for json data\n",
    "        data = {'day': [], 'filter': [], 'mag': [], 'magerror': [], 'upperlimit': []}\n",
    "        # Use for loop to call to values within the json file\n",
    "        for entry in sne['iPTF13bvn']['photometry']:\n",
    "            # Ignore instances in which 'band' and 'magnitude' have no data\n",
    "            if 'band' in entry and 'magnitude' in entry:\n",
    "                data['day'].append(float(entry['time']))\n",
    "                data['filter'].append(entry['band'])\n",
    "                data['mag'].append(float(entry['magnitude']))\n",
    "                # Ignore instances in which 'upperlimit' has no value (i.e. is 'false')\n",
    "                if 'upperlimit' in entry:\n",
    "                    data['upperlimit'].append(entry['upperlimit'])\n",
    "                else:\n",
    "                    data['upperlimit'].append(False)\n",
    "                # Ignore instances in which 'e_magnitude' has no value (i.e. upperlimit IS the error)\n",
    "                if 'e_magnitude' in entry:\n",
    "                    data['magerror'].append(float(entry['e_magnitude']))\n",
    "                else:\n",
    "                    data['magerror'].append(99)\n",
    "        # Table the now-full dictionary of sne data\n",
    "        sne_table = Table(data)\n",
    "        # Update the table to modify the data for magnitude errors no more than 0.3, no upperlimit values,\n",
    "        # mjd in terms of obvservation day number, and filters in only g, r, i, and z.\n",
    "        sne_table = sne_table[sne_table['magerror'] < 0.3]\n",
    "        sne_table = sne_table[sne_table['upperlimit'] == False]\n",
    "        sne_table = sne_table[sne_table['filter'] != 'V']\n",
    "        sne_table = sne_table[sne_table['filter'] != 'R']\n",
    "        sne_table = sne_table[sne_table['filter'] != 'W1']\n",
    "        sne_table = sne_table[sne_table['filter'] != 'B']\n",
    "        sne_table = sne_table[sne_table['filter'] != 'U']\n",
    "        sne_table = sne_table[sne_table['filter'] != 'I']\n",
    "        sne_table = sne_table[sne_table['filter'] != 'W2']\n",
    "        sne_table['day'] = sne_table['day'] - sne_table['day'].min()\n",
    "        sne_table = sne_table['day', 'filter', 'mag', 'magerror']\n",
    "        return sne_table"
   ]
  },
  {
   "cell_type": "code",
   "execution_count": 7,
   "metadata": {
    "collapsed": true
   },
   "outputs": [],
   "source": [
    "def interpolate_light_curve(adjusted_lc_table, survey):\n",
    "    \n",
    "    #for each filter interpolate the read in light curve to the days of the survey in all filters\n",
    "    \n",
    "    lc = {}\n",
    "    for f in filterNames:\n",
    "        fMatch = np.where(adjusted_lc_table['filter'] == f)\n",
    "        lc[f] = np.interp(survey['day'], adjusted_lc_table['day'][fMatch], adjusted_lc_table['mag'][fMatch])\n",
    "    lightcurve = Table(lc)\n",
    "    lightcurve['day'] = survey['day']\n",
    "    lightcurve = lightcurve['day', 'g', 'r', 'i', 'z']\n",
    "    return lightcurve"
   ]
  },
  {
   "cell_type": "code",
   "execution_count": 8,
   "metadata": {
    "collapsed": true
   },
   "outputs": [],
   "source": [
    "def resample_light_curve(lightcurve, opsim):\n",
    "    \n",
    "    \"\"\"add to the opsim table a magnitude column where the magnitude is taken \n",
    "    from the index of the interpolated light curve where both the filter and day matched the opsim\"\"\"\n",
    "    opsim1 = opsim.copy()\n",
    "    opsim1['magnitude'] = 0.\n",
    "    for row in range(len(opsim1)):\n",
    "        filterName = opsim1['filter'][row]\n",
    "        opsim1['magnitude'][row] = lightcurve[filterName][row]\n",
    "    opsim1 = opsim1['day','filter','magnitude','fiveSigmaDepth']\n",
    "    opsim1.sort('day')\n",
    "    return opsim1"
   ]
  },
  {
   "cell_type": "code",
   "execution_count": 9,
   "metadata": {
    "collapsed": true
   },
   "outputs": [],
   "source": [
    "def peak_brightness(lc_table):\n",
    "    \n",
    "    \"\"\"This function returns a table of peak magnitude and the day it occurs \n",
    "    for each filter from the read in lightcurve\"\"\"\n",
    "    \n",
    "    peak_brightness = {}\n",
    "    for f in filterNames:\n",
    "        fMatch = np.where(lc_table['filter'] == f)\n",
    "        maxmag = np.amin(lc_table['mag'][fMatch])\n",
    "        location = np.argmin(lc_table['mag'][fMatch])\n",
    "        maxday = lc_table['day'][fMatch][location]\n",
    "        peak_brightness[f] = [maxday, maxmag]\n",
    "    \n",
    "    peak = Table(peak_brightness)\n",
    "    peak[' '] = ['day', 'magnitude']\n",
    "    orderedPeak = peak[' ','g','r','i','z']\n",
    "    return orderedPeak"
   ]
  },
  {
   "cell_type": "code",
   "execution_count": 10,
   "metadata": {
    "collapsed": true
   },
   "outputs": [],
   "source": [
    "def organize_opsim_table(survey, coord):\n",
    "    opsim = list(survey)\n",
    "    opsim = opsim[coord]\n",
    "    opsim = opsim['fieldRA', 'fieldDec', 'day', 'filter', 'fiveSigmaDepth']\n",
    "    opsim = opsim[opsim['filter'] != 'u']\n",
    "    opsim = opsim[opsim['filter'] != 'y']\n",
    "    opsim['day'] = (opsim['day'] - opsim['day'].min())\n",
    "    opsim.sort('day')\n",
    "    return opsim"
   ]
  },
  {
   "cell_type": "code",
   "execution_count": 11,
   "metadata": {
    "collapsed": true
   },
   "outputs": [],
   "source": [
    "def adjust_peak(lc_table, peaktable, peakday, peakmag):\n",
    "    \n",
    "    \"\"\"This function finds the necessary adjustment needed to make the peak \n",
    "    of the red filter occur at the right place and adjusts all filters by that same ammount\"\"\"\n",
    "    adjusted_lc_table = lc_table.copy()\n",
    "    \n",
    "    peak_day_difference = peaktable['r'][0] - peakday\n",
    "    adjusted_lc_table['day'] = adjusted_lc_table['day'] - peak_day_difference\n",
    "    \n",
    "    peak_mag_difference = peaktable['r'][1] - peakmag\n",
    "    adjusted_lc_table['mag'] = adjusted_lc_table['mag'] - peak_mag_difference\n",
    "    \n",
    "    return adjusted_lc_table"
   ]
  },
  {
   "cell_type": "code",
   "execution_count": 12,
   "metadata": {
    "collapsed": true
   },
   "outputs": [],
   "source": [
    "def adjust_opsim_table(opsim, adjusted_lc_table):\n",
    "    new_opsim = opsim.copy()\n",
    "    new_opsim = new_opsim[new_opsim['day']< adjusted_lc_table['day'].max()]\n",
    "    new_opsim = new_opsim[new_opsim['day']> adjusted_lc_table['day'].min()]\n",
    "    return new_opsim"
   ]
  },
  {
   "cell_type": "code",
   "execution_count": 13,
   "metadata": {
    "collapsed": true
   },
   "outputs": [],
   "source": [
    "def calculate_error(survey):\n",
    "    \n",
    "    #Calculate the error of the magnitude at each point from the magnitude and fiveSigmaDepth stored in survey\n",
    "    \n",
    "    snr = 5.*10.**(-0.4*(survey['magnitude'] - survey['fiveSigmaDepth']))\n",
    "    lc_err = 2.5/(np.log(10)*snr)\n",
    "    survey['error'] = lc_err\n",
    "    \n",
    "    return survey"
   ]
  },
  {
   "cell_type": "code",
   "execution_count": 14,
   "metadata": {
    "collapsed": true
   },
   "outputs": [],
   "source": [
    "def plot_light_curve(opsim_fmatch2, f, ra, dec, day, mag):\n",
    "    \n",
    "    #Plot the resampled light curve (day vs. magnitude) with error for each filter\n",
    "    fig, ax = plt.subplots(1,1)\n",
    "    ax.errorbar(opsim_fmatch2['day'], opsim_fmatch2['magnitude'], opsim_fmatch2['error'],\n",
    "                fmt = 'o', color=colors[f])\n",
    "    ax.set_ylim(20,15)\n",
    "    ax.set_xlim(0,365)\n",
    "    ax.set_xlabel('Days')\n",
    "    ax.set_ylabel('Magnitude')\n",
    "    handles, labels = ax.get_legend_handles_labels()\n",
    "    handles = [h[0] for h in handles]\n",
    "    ax.legend(handles, [f for f in filterNames], fontsize='smaller', numpoints=1)\n",
    "    ax.set_title('Resampled Light Curve for ra = %r and dec = %r and peakday = %d and peakmag = %d' \n",
    "                 %(ra, dec, day, mag))"
   ]
  },
  {
   "cell_type": "code",
   "execution_count": 15,
   "metadata": {
    "collapsed": true
   },
   "outputs": [],
   "source": [
    "def interpolate_original(lc_table, times):\n",
    "    lc_original = {}\n",
    "    #for each filter plot the corresponding light curve created in Make_LightCurve\n",
    "    for f in filterNames:\n",
    "        fMatch = np.where(lc_table['filter'] == f)\n",
    "        lc_original[f] = np.interp(times, lc_table['day'][fMatch], lc_table['mag'][fMatch])\n",
    "    lightcurve2 = Table(lc_original)\n",
    "    lightcurve2['day'] = times\n",
    "    lightcurve2 = lightcurve2['day', 'g', 'r', 'i', 'z']\n",
    "    return lightcurve2"
   ]
  },
  {
   "cell_type": "code",
   "execution_count": 16,
   "metadata": {
    "collapsed": true
   },
   "outputs": [],
   "source": [
    "def change_lightcurve_to_table(lightcurve2):\n",
    "    \n",
    "    opsim2 = Table()\n",
    "    opsim2.add_column(Column(name='day'))\n",
    "    opsim2.add_column(Column(name='mangitude'))\n",
    "    opsim2.add_column(Column(name='filter'))\n",
    "    opsim2 = Table(names=('day', 'magnitude', 'filter'), dtype=('float', 'float', 'string'))\n",
    "    for day in lightcurve2['day']:\n",
    "        for f in filterNames:\n",
    "            row = np.where(lightcurve2['day'] == day)\n",
    "            opsim2.add_row([day, lightcurve2[f][row][0], f])            \n",
    "    return opsim2"
   ]
  },
  {
   "cell_type": "code",
   "execution_count": 17,
   "metadata": {
    "collapsed": true
   },
   "outputs": [],
   "source": [
    "def func2(x, a, b, c, d, e):\n",
    "    return a*x**4 + b*x**3 + c*x**2 + d*x + e"
   ]
  },
  {
   "cell_type": "code",
   "execution_count": 18,
   "metadata": {
    "collapsed": true
   },
   "outputs": [],
   "source": [
    "def create_curve2(opsim_fmatch2, opsim_fmatch3, f, adjusted_lc_table, ra, dec, peakday, peakmag):\n",
    "    curve = np.copy(opsim_fmatch2)\n",
    "    curve = Table(curve)\n",
    "    fMatch = np.where(adjusted_lc_table['filter'] == f)\n",
    "    curve = curve[curve['day'] <= adjusted_lc_table['day'][fMatch].max()]\n",
    "\n",
    "    survey2 = np.copy(opsim_fmatch3)\n",
    "    survey2 = Table(survey2)\n",
    "    survey2 = survey2[survey2['day'] <= adjusted_lc_table['day'][fMatch].max()]\n",
    "\n",
    "    xdata = np.arange(0, curve['day'].max(), 1)\n",
    "    popt, pcov = optimize.curve_fit(func2, curve['day'], curve['magnitude'])\n",
    "    plt.plot(xdata, func2(xdata, *popt), 'orange' , label='fit')\n",
    "    plt.errorbar(curve['day'], curve['magnitude'], \n",
    "               yerr = curve['error'], fmt = 'o', color=colors[f], label=f)\n",
    "    plt.plot(survey2['day'], survey2['magnitude'], color=colors[f], label=f)\n",
    "    plt.xlabel('day')\n",
    "    plt.ylabel('magnitude')\n",
    "    plt.ylim(20,15)\n",
    "    plt.legend(numpoints = 1)\n",
    "    plt.title('Lightcurve at ra = %r and dec = %r, peakday = %r and peakmag = %r'\n",
    "              %(ra, dec, peakday, peakmag))\n",
    "    plt.show()"
   ]
  },
  {
   "cell_type": "code",
   "execution_count": 19,
   "metadata": {
    "collapsed": true
   },
   "outputs": [],
   "source": [
    "def resampled_peak_magnitude(opsim_fmatch2, f, adjusted_lc_table, ra, dec):\n",
    "  \n",
    "    fMatch = np.where(adjusted_lc_table['filter'] == f)\n",
    "\n",
    "    survey = np.copy(opsim_fmatch2)\n",
    "    survey = Table(survey)\n",
    "    survey = survey[survey['day'] <= adjusted_lc_table['day'][fMatch].max()]\n",
    "\n",
    "    xdata = np.arange(0, survey['day'].max(), 2)\n",
    "    popt, pcov = optimize.curve_fit(func2, survey['day'], survey['magnitude'])\n",
    "\n",
    "    peak_magnitude_difference = abs(adjusted_lc_table['mag'].min() - func2(xdata, *popt).min())\n",
    "    \n",
    "    return [ra, dec, f, peak_magnitude_difference]"
   ]
  },
  {
   "cell_type": "code",
   "execution_count": 20,
   "metadata": {
    "collapsed": true
   },
   "outputs": [],
   "source": [
    "def resampled_peak_day(opsim_fmatch2, f, adjusted_lc_table, ra, dec):\n",
    "\n",
    "    fMatch = np.where(adjusted_lc_table['filter'] == f)\n",
    "\n",
    "    survey = np.copy(opsim_fmatch2)\n",
    "    survey = Table(survey)\n",
    "    survey = survey[survey['day'] <= adjusted_lc_table['day'][fMatch].max()]\n",
    "\n",
    "    xdata = np.arange(0, survey['day'].max() + 10, 1)\n",
    "    popt, pcov = optimize.curve_fit(func2, survey['day'], survey['magnitude'])\n",
    "\n",
    "    actual_peak_day = adjusted_lc_table['day'][adjusted_lc_table['mag'].argmin()]\n",
    "    fitted_peak_day = func2(xdata, *popt).argmin()\n",
    "    peak_day_difference = abs(actual_peak_day - fitted_peak_day)\n",
    "    \n",
    "    return [ra, dec, f, peak_day_difference]"
   ]
  },
  {
   "cell_type": "code",
   "execution_count": 21,
   "metadata": {
    "collapsed": true
   },
   "outputs": [],
   "source": [
    "def peak_difference(peak):\n",
    "    peak_difference = Table()\n",
    "    peak_difference.add_column(Column(name='ra'))\n",
    "    peak_difference.add_column(Column(name='dec'))\n",
    "    peak_difference.add_column(Column(name='filter'))\n",
    "    peak_difference.add_column(Column(name= peak))\n",
    "    peak_difference = Table(names=('ra', 'dec', 'filter', peak), \n",
    "                                dtype=('float', 'float', 'string', 'float'))\n",
    "    return peak_difference"
   ]
  },
  {
   "cell_type": "code",
   "execution_count": 99,
   "metadata": {
    "collapsed": true
   },
   "outputs": [],
   "source": [
    "def table_percent_with_enough():\n",
    "    percent_table = Table()\n",
    "    percent_table.add_column(Column(name='ra'))\n",
    "    percent_table.add_column(Column(name='dec'))\n",
    "    percent_table.add_column(Column(name='percent'))\n",
    "    percent_table = Table(names=('ra', 'dec', 'percent'), \n",
    "                                dtype=('float', 'float', 'float'))\n",
    "    return percent_table"
   ]
  },
  {
   "cell_type": "code",
   "execution_count": 113,
   "metadata": {},
   "outputs": [
    {
     "name": "stderr",
     "output_type": "stream",
     "text": [
      "/home/hbowden/lsst4/Linux64/miniconda2/4.2.12.lsst1/lib/python2.7/site-packages/scipy/optimize/minpack.py:715: OptimizeWarning: Covariance of the parameters could not be estimated\n",
      "  category=OptimizeWarning)\n"
     ]
    },
    {
     "name": "stdout",
     "output_type": "stream",
     "text": [
      "      ra           dec       filter peak magnitude difference\n",
      "------------- -------------- ------ -------------------------\n",
      "2.54393261038 -53.4684214416      z            0.181151375476\n",
      "271.696586451 -55.2216722947      z            0.129190466906\n",
      "49.5608492788 -51.7610072121      g            0.551965371372\n",
      "49.5608492788 -51.7610072121      i            0.496890998967\n",
      "49.5608492788 -51.7610072121      z            0.139370324908\n",
      " 5.4946652553 -55.9779765843      z            0.180787284576\n",
      "192.794568484 -48.9649731719      z             1.47144631447\n",
      "235.634622826 -46.8794067976      i            0.245289414974\n",
      "270.401701834 -52.4600157222      z            0.130485507626\n",
      "149.496147906 -55.9779765843      z            0.202576770647\n",
      "          ...            ...    ...                       ...\n",
      "235.634622826 -46.8794067976      i            0.246121390447\n",
      "29.2838729091 -34.0795296544      z             2.57327284949\n",
      "269.662586278 -38.8866455555      z            0.286619570314\n",
      "341.305228981 -49.6754408378      z            0.168546684869\n",
      "347.115021024 -60.6590417705      z           0.0750514123032\n",
      "193.562331929 -51.7610072121      z           0.0183836558553\n",
      "277.002175634 -47.8190575816      z            0.118201513728\n",
      "262.936061763 -59.2438360165      z             0.12328664372\n",
      "315.138246478 -50.8614634738      z             15.4400411514\n",
      "239.868780932 -46.1689391316      i             0.16398337862\n",
      "66.5032112808 -55.9779765843      z           0.0130788430897\n",
      "Length = 69 rows\n",
      "      ra           dec       filter peak day difference\n",
      "------------- -------------- ------ -------------------\n",
      "2.54393261038 -53.4684214416      z       2.00399999999\n",
      "271.696586451 -55.2216722947      z              18.996\n",
      "49.5608492788 -51.7610072121      g             109.996\n",
      "49.5608492788 -51.7610072121      i              12.004\n",
      "49.5608492788 -51.7610072121      z       2.00399999999\n",
      " 5.4946652553 -55.9779765843      z       2.00399999999\n",
      "192.794568484 -48.9649731719      z              38.996\n",
      "235.634622826 -46.8794067976      i    0.00399999999354\n",
      "270.401701834 -52.4600157222      z       2.00399999999\n",
      "149.496147906 -55.9779765843      z    0.00399999999354\n",
      "          ...            ...    ...                 ...\n",
      "235.634622826 -46.8794067976      i    0.00399999999354\n",
      "29.2838729091 -34.0795296544      z       9.99600000001\n",
      "269.662586278 -38.8866455555      z              44.996\n",
      "341.305228981 -49.6754408378      z       1.00399999999\n",
      "347.115021024 -60.6590417705      z              48.996\n",
      "193.562331929 -51.7610072121      z       2.99600000001\n",
      "277.002175634 -47.8190575816      z       1.00399999999\n",
      "262.936061763 -59.2438360165      z       1.00399999999\n",
      "315.138246478 -50.8614634738      z              31.996\n",
      "239.868780932 -46.1689391316      i       2.99600000001\n",
      "66.5032112808 -55.9779765843      z              40.996\n",
      "Length = 69 rows\n",
      "enough = 69\n",
      "not enough = 731\n"
     ]
    },
    {
     "data": {
      "image/png": "[encoded data removed]",
      "text/plain": [
       "<matplotlib.figure.Figure at 0x7f3a8ba84150>"
      ]
     },
     "metadata": {},
     "output_type": "display_data"
    },
    {
     "data": {
      "image/png": "[encoded data removed]",
      "text/plain": [
       "<matplotlib.figure.Figure at 0x7f3a8bad2cd0>"
      ]
     },
     "metadata": {},
     "output_type": "display_data"
    }
   ],
   "source": [
    "read_curve = ReadCurve(jsonLC)\n",
    "lc_table = read_curve.read_lightcurve(jsonLC)\n",
    "peakTable = peak_brightness(lc_table)\n",
    "survey = createdict_for_mjd_filter_depth(bundle)\n",
    "percent_table = table_percent_with_enough()\n",
    "peak1 = 'peak magnitude difference'\n",
    "peak2 = 'peak day difference'\n",
    "peak_mag_difference = peak_difference(peak1)\n",
    "peak_day_difference = peak_difference(peak2)\n",
    "enough = 0.\n",
    "not_enough = 0.\n",
    "for coord in range(len(bundle.metricValues)):\n",
    "    #enough = 0.\n",
    "    #not_enough = 0.\n",
    "    opsim = organize_opsim_table(survey, coord)\n",
    "    \n",
    "    ra = np.degrees(round(opsim['fieldRA'][0], 4))\n",
    "    dec = np.degrees(round(opsim['fieldDec'][0], 4))\n",
    "    \n",
    "    for peakday in location_of_peak:\n",
    "        for peakmag in height_of_peak:\n",
    "            adjusted_lc_table = adjust_peak(lc_table, peakTable, peakday, peakmag)\n",
    "            new_opsim = adjust_opsim_table(opsim, adjusted_lc_table)\n",
    "            lightcurve = interpolate_light_curve(adjusted_lc_table, new_opsim)\n",
    "            opsim1 = resample_light_curve(lightcurve, new_opsim)\n",
    "            opsim1 = calculate_error(opsim1)\n",
    "            \n",
    "            times = np.arange(new_opsim['day'].min(), new_opsim['day'].max(), 1)\n",
    "            lightcurve2 = interpolate_original(adjusted_lc_table, times)\n",
    "            opsim2 = change_lightcurve_to_table(lightcurve2)\n",
    "            \n",
    "            final_opsim = opsim1.copy()\n",
    "            final_opsim = final_opsim[final_opsim['day'] <= 30]\n",
    "            for f in filterNames:\n",
    "                fMatch = np.where(final_opsim['filter'] == f)\n",
    "                fMatch2 = np.where(opsim1['filter'] == f)\n",
    "                fMatch3 = np.where(opsim2['filter'] == f)\n",
    "                opsim_fmatch = final_opsim[fMatch]\n",
    "                opsim_fmatch['day'] = np.round(opsim_fmatch['day'])\n",
    "                opsim_fmatch2 = opsim1[fMatch2]\n",
    "                opsim_fmatch3 = opsim2[fMatch3]\n",
    "                if len(np.unique(opsim_fmatch['day'])) >= 4:\n",
    "                    #print('enough points for filter = %s, ra = %r, dec = %r' %(f, ra, dec))\n",
    "                    #plot_light_curve(opsim_fmatch2, f, ra, dec, peakday, peakmag)\n",
    "                    #create_curve2(opsim_fmatch2, opsim_fmatch3, \n",
    "                    #              f, adjusted_lc_table, ra, dec, peakday, peakmag)\n",
    "                    peak_mag_list = resampled_peak_magnitude(opsim_fmatch2, f, adjusted_lc_table, ra, dec)\n",
    "                    peak_mag_difference.add_row(peak_mag_list)\n",
    "                    peak_day_list = resampled_peak_day(opsim_fmatch2, f, adjusted_lc_table, ra, dec)\n",
    "                    peak_day_difference.add_row(peak_day_list)\n",
    "                    enough += 1\n",
    "                else:\n",
    "                    not_enough += 1\n",
    "    percent_with_atleast_4 = enough/(enough + not_enough)*100\n",
    "    percent_table.add_row([ra, dec, percent_with_atleast_4])\n",
    "#print percent_table\n",
    "print peak_mag_difference\n",
    "plt.figure()\n",
    "plt.hist(peak_mag_difference['peak magnitude difference'])\n",
    "plt.title('peak magnitude difference')\n",
    "print peak_day_difference\n",
    "plt.figure()\n",
    "plt.hist(peak_day_difference['peak day difference'])\n",
    "plt.title('peak day difference')\n",
    "print('enough = %d' %(enough))\n",
    "print('not enough = %d' %(not_enough))"
   ]
  },
  {
   "cell_type": "code",
   "execution_count": 85,
   "metadata": {
    "collapsed": true
   },
   "outputs": [],
   "source": [
    "class Test():\n",
    "    def __init__(self):\n",
    "        \n",
    "        pass\n",
    "    \n",
    "    def createdict_for_mjd_filter_depth_test(self, bundle):\n",
    "        \n",
    "        survey = createdict_for_mjd_filter_depth(bundle)\n",
    "        survey_test_0 = survey[0]\n",
    "        survey_test_0 = survey_test_0['fieldRA', 'fieldDec', 'day', 'filter', 'fiveSigmaDepth']\n",
    "        survey_test_1 = survey[1]\n",
    "        survey_test_1 = survey_test_1['fieldRA', 'fieldDec', 'day', 'filter', 'fiveSigmaDepth']\n",
    "        assert ((survey_test_0[0][0] == bundle.metricValues[0][0][2]) \n",
    "                and (survey_test_1[1][1] == bundle.metricValues[1][1][4]))\n",
    "        print('createdict_for_mjd_filter_depth works')\n",
    "        \n",
    "    def read_lightcurve_test(self, jsonLC):\n",
    "        \n",
    "        #Check with fake data file (test_data.json)\n",
    "        read_curve = ReadCurve(jsonLC)\n",
    "        lc_table = read_curve.read_lightcurve(jsonLC)\n",
    "        assert lc_table['mag'].min() == 19.5\n",
    "        assert lc_table['day'].min() == 0\n",
    "        print('read_lightcurve works')\n",
    "        \n",
    "    def peak_brightness_test(self):\n",
    "        \n",
    "        read_curve = ReadCurve(jsonLC)\n",
    "        lc_table = read_curve.read_lightcurve(jsonLC)\n",
    "        peaktable = peak_brightness(lc_table)\n",
    "        assert peaktable['g'][1] == 19.5\n",
    "        print('peak_brightness works')\n",
    "\n",
    "    def adjust_peak_test(self):\n",
    "        \n",
    "        read_curve = ReadCurve(jsonLC)\n",
    "        lc_table = read_curve.read_lightcurve(jsonLC)\n",
    "        adjusted_lc_table = np.copy(lc_table)\n",
    "        peaktable = peak_brightness(lc_table)\n",
    "        peakday = 10\n",
    "        peakmag = 16\n",
    "        adjusted_lc_table = adjust_peak(adjusted_lc_table, peaktable, peakday, peakmag)\n",
    "        for f in filterNames:\n",
    "            fMatch = np.where(lc_table['filter'] == f)\n",
    "            assert (np.all((lc_table['mag'][fMatch] - 3.7) == adjusted_lc_table['mag'][fMatch]) \n",
    "                   and np.all((lc_table['day'][fMatch] - 41) == adjusted_lc_table['day'][fMatch]))\n",
    "        print('adjust_peak works')\n",
    "        \n",
    "    def interpolate_original_test(self, lc_table, times):\n",
    "        \n",
    "        lightcurve = interpolate_original(lc_table, times)\n",
    "        rise = lightcurve['g'][0] - lightcurve['g'].min()\n",
    "        location_of_min = lightcurve['g'].argmin()\n",
    "        run = lightcurve['day'][location_of_min] - lightcurve['day'][0]\n",
    "        slope = rise/run\n",
    "        assert np.absolute(slope - 0.05) <= 0.01\n",
    "        print('interpolate_original works')\n",
    "        \n",
    "    def calculate_error_test(self):\n",
    "        \n",
    "        a = [16, 17, 18, 19]\n",
    "        b = [21, 24, 22, 23.5]\n",
    "        t= Table([a, b], names=('magnitude', 'fiveSigmaDepth'))\n",
    "        test_survey = calculate_error(t)\n",
    "        assert np.absolute(test_survey['error'][0] - 0.00217) <= 0.00001\n",
    "        assert np.absolute(test_survey['error'][1] - 0.000344) <= 0.00001\n",
    "        assert np.absolute(test_survey['error'][2] - 0.00545) <= 0.00001\n",
    "        assert np.absolute(test_survey['error'][3] - 0.00344) <= 0.00001\n",
    "        print('calculate_error works') \n",
    "        \n",
    "    def resampled_peak_magnitude_test(self, opsim, lc_table):\n",
    "        \n",
    "        opsim_fmatch2 = opsim[opsim['filter'] == 'z']\n",
    "        f = 'z'\n",
    "        ra = 0\n",
    "        dec = -15\n",
    "        peak = resampled_peak_magnitude(opsim_fmatch2, f, lc_table, ra, dec)\n",
    "        assert peak[3] <= 0.001\n",
    "        print('resampled_peak_magnitude works')\n",
    "        \n",
    "    def resampled_peak_day_test(self, opsim, lc_table):\n",
    "        \n",
    "        opsim_fmatch2 = opsim[opsim['filter'] == 'z']\n",
    "        f = 'z'\n",
    "        ra = 0\n",
    "        dec = -15\n",
    "        peak = resampled_peak_day(opsim_fmatch2, f, lc_table, ra, dec)\n",
    "        assert peak[3] <= 0.001\n",
    "        print ('resampled_peak_day works')\n",
    "        \n",
    "    def adjust_opsim_table_test(self, opsim, new_lc_table):\n",
    "        \n",
    "        adjusted_opsim = adjust_opsim_table(opsim, new_lc_table)\n",
    "        assert adjusted_opsim['day'].max() <= 82\n",
    "        print ('adjust_opsim_table works')"
   ]
  },
  {
   "cell_type": "code",
   "execution_count": 86,
   "metadata": {},
   "outputs": [
    {
     "name": "stdout",
     "output_type": "stream",
     "text": [
      "createdict_for_mjd_filter_depth works\n",
      "read_lightcurve works\n",
      "peak_brightness works\n",
      "adjust_peak works\n",
      "calculate_error works\n",
      "interpolate_original works\n"
     ]
    }
   ],
   "source": [
    "jsonLC = 'test_data.json'\n",
    "test = Test()\n",
    "test.createdict_for_mjd_filter_depth_test(bundle)\n",
    "test.read_lightcurve_test(jsonLC)\n",
    "test.peak_brightness_test()\n",
    "test.adjust_peak_test()\n",
    "test.calculate_error_test()\n",
    "\n",
    "read_curve = ReadCurve(jsonLC)\n",
    "lc_table = read_curve.read_lightcurve(jsonLC)\n",
    "survey = createdict_for_mjd_filter_depth(bundle)\n",
    "opsim = organize_opsim_table(survey, 0)\n",
    "times = np.arange(lc_table['day'].min(), lc_table['day'].max(), 1)\n",
    "test.interpolate_original_test(lc_table, times)"
   ]
  },
  {
   "cell_type": "code",
   "execution_count": 87,
   "metadata": {},
   "outputs": [
    {
     "name": "stdout",
     "output_type": "stream",
     "text": [
      "resampled_peak_magnitude works\n",
      "resampled_peak_day works\n",
      "adjust_opsim_table works\n"
     ]
    }
   ],
   "source": [
    "#create new fake_data (straight line)\n",
    "new_lc_table = Table()\n",
    "new_lc_table.add_column(Column(name='day'))\n",
    "new_lc_table.add_column(Column(name='filter'))\n",
    "new_lc_table.add_column(Column(name='mag'))\n",
    "new_lc_table.add_column(Column(name= 'magerror'))\n",
    "new_lc_table = Table(names=('day', 'filter', 'mag', 'magerror'), \n",
    "                            dtype=('float', 'string', 'float', 'float'))\n",
    "x = 0\n",
    "while x < 82.6:\n",
    "    new_lc_table.add_row([x, 'z', x, 0])\n",
    "    x += 1\n",
    "new_lc_table.add_row([0, 'g', 0, 0])\n",
    "new_lc_table.add_row([0, 'r', 0, 0])\n",
    "new_lc_table.add_row([0, 'i', 0, 0])\n",
    "new_lc_table.add_row([0, 'z', 0, 0])\n",
    "new_opsim = adjust_opsim_table(opsim, new_lc_table)\n",
    "lightcurve = interpolate_light_curve(new_lc_table, new_opsim)\n",
    "opsim = resample_light_curve(lightcurve, new_opsim)\n",
    "\n",
    "test.resampled_peak_magnitude_test(opsim, new_lc_table)\n",
    "test.resampled_peak_day_test(opsim, new_lc_table)\n",
    "test.adjust_opsim_table_test(opsim, new_lc_table)"
   ]
  },
  {
   "cell_type": "code",
   "execution_count": null,
   "metadata": {
    "collapsed": true
   },
   "outputs": [],
   "source": []
  }
 ],
 "metadata": {
  "kernelspec": {
   "display_name": "Python 2",
   "language": "python",
   "name": "python2"
  },
  "language_info": {
   "codemirror_mode": {
    "name": "ipython",
    "version": 2
   },
   "file_extension": ".py",
   "mimetype": "text/x-python",
   "name": "python",
   "nbconvert_exporter": "python",
   "pygments_lexer": "ipython2",
   "version": "2.7.12"
  }
 },
 "nbformat": 4,
 "nbformat_minor": 2
}
